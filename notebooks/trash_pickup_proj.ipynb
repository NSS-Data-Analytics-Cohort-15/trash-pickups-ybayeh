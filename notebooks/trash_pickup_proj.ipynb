{
 "cells": [
  {
   "cell_type": "code",
   "execution_count": 1,
   "id": "17999a36-81a1-4987-b04d-cdc128279a1d",
   "metadata": {},
   "outputs": [],
   "source": [
    "import pandas as pd\n",
    "import geopandas as gpd\n",
    "import matplotlib.pyplot as plt\n",
    "import folium\n",
    "from folium.plugins import MarkerCluster\n",
    "from folium.plugins import FastMarkerCluster"
   ]
  },
  {
   "cell_type": "code",
   "execution_count": 2,
   "id": "3f6f8a49-c97c-4fd8-98d4-42aa3ad596e3",
   "metadata": {},
   "outputs": [],
   "source": [
    "trash_pickup=pd.read_csv('../data/trash_hauler_report_with_lat_lng.csv')"
   ]
  },
  {
   "cell_type": "code",
   "execution_count": 3,
   "id": "8f8a4fe1-50d3-4019-9e82-c94d2c175f80",
   "metadata": {},
   "outputs": [
    {
     "data": {
      "text/html": [
       "<div>\n",
       "<style scoped>\n",
       "    .dataframe tbody tr th:only-of-type {\n",
       "        vertical-align: middle;\n",
       "    }\n",
       "\n",
       "    .dataframe tbody tr th {\n",
       "        vertical-align: top;\n",
       "    }\n",
       "\n",
       "    .dataframe thead th {\n",
       "        text-align: right;\n",
       "    }\n",
       "</style>\n",
       "<table border=\"1\" class=\"dataframe\">\n",
       "  <thead>\n",
       "    <tr style=\"text-align: right;\">\n",
       "      <th></th>\n",
       "      <th>Request Number</th>\n",
       "      <th>Date Opened</th>\n",
       "      <th>Request</th>\n",
       "      <th>Description</th>\n",
       "      <th>Incident Address</th>\n",
       "      <th>Zip Code</th>\n",
       "      <th>Trash Hauler</th>\n",
       "      <th>Trash Route</th>\n",
       "      <th>Council District</th>\n",
       "      <th>State Plan X</th>\n",
       "      <th>State Plan Y</th>\n",
       "      <th>LONGITUDE</th>\n",
       "      <th>LATITUDE</th>\n",
       "    </tr>\n",
       "  </thead>\n",
       "  <tbody>\n",
       "    <tr>\n",
       "      <th>0</th>\n",
       "      <td>25270</td>\n",
       "      <td>11/1/2017</td>\n",
       "      <td>Trash - Backdoor</td>\n",
       "      <td>house with the wheel chair ramp, they share dr...</td>\n",
       "      <td>3817 Crouch Dr</td>\n",
       "      <td>37207.0</td>\n",
       "      <td>RED RIVER</td>\n",
       "      <td>3205</td>\n",
       "      <td>2.0</td>\n",
       "      <td>1727970.412</td>\n",
       "      <td>686779.4781</td>\n",
       "      <td>-86.815392</td>\n",
       "      <td>36.217292</td>\n",
       "    </tr>\n",
       "    <tr>\n",
       "      <th>1</th>\n",
       "      <td>25274</td>\n",
       "      <td>11/1/2017</td>\n",
       "      <td>Trash - Curbside/Alley Missed Pickup</td>\n",
       "      <td>Curb/Trash miss Tuesday.</td>\n",
       "      <td>4028 Clarksville Pike</td>\n",
       "      <td>37218.0</td>\n",
       "      <td>RED RIVER</td>\n",
       "      <td>4202</td>\n",
       "      <td>1.0</td>\n",
       "      <td>1721259.366</td>\n",
       "      <td>685444.7996</td>\n",
       "      <td>-86.838103</td>\n",
       "      <td>36.213470</td>\n",
       "    </tr>\n",
       "  </tbody>\n",
       "</table>\n",
       "</div>"
      ],
      "text/plain": [
       "   Request Number Date Opened                               Request  \\\n",
       "0           25270   11/1/2017                      Trash - Backdoor   \n",
       "1           25274   11/1/2017  Trash - Curbside/Alley Missed Pickup   \n",
       "\n",
       "                                         Description       Incident Address  \\\n",
       "0  house with the wheel chair ramp, they share dr...         3817 Crouch Dr   \n",
       "1                           Curb/Trash miss Tuesday.  4028 Clarksville Pike   \n",
       "\n",
       "   Zip Code Trash Hauler Trash Route  Council District  State Plan X  \\\n",
       "0   37207.0    RED RIVER        3205               2.0   1727970.412   \n",
       "1   37218.0    RED RIVER        4202               1.0   1721259.366   \n",
       "\n",
       "   State Plan Y  LONGITUDE   LATITUDE  \n",
       "0   686779.4781 -86.815392  36.217292  \n",
       "1   685444.7996 -86.838103  36.213470  "
      ]
     },
     "execution_count": 3,
     "metadata": {},
     "output_type": "execute_result"
    }
   ],
   "source": [
    "trash_pickup.head(2)\n"
   ]
  },
  {
   "cell_type": "code",
   "execution_count": 4,
   "id": "0e8c9541-0495-4e79-afd8-f28d8ab07090",
   "metadata": {},
   "outputs": [
    {
     "name": "stdout",
     "output_type": "stream",
     "text": [
      "<class 'pandas.core.frame.DataFrame'>\n",
      "RangeIndex: 20226 entries, 0 to 20225\n",
      "Data columns (total 13 columns):\n",
      " #   Column            Non-Null Count  Dtype  \n",
      "---  ------            --------------  -----  \n",
      " 0   Request Number    20226 non-null  int64  \n",
      " 1   Date Opened       20226 non-null  object \n",
      " 2   Request           20226 non-null  object \n",
      " 3   Description       20195 non-null  object \n",
      " 4   Incident Address  20217 non-null  object \n",
      " 5   Zip Code          20151 non-null  float64\n",
      " 6   Trash Hauler      19325 non-null  object \n",
      " 7   Trash Route       19279 non-null  object \n",
      " 8   Council District  20177 non-null  float64\n",
      " 9   State Plan X      20198 non-null  float64\n",
      " 10  State Plan Y      20198 non-null  float64\n",
      " 11  LONGITUDE         20198 non-null  float64\n",
      " 12  LATITUDE          20198 non-null  float64\n",
      "dtypes: float64(6), int64(1), object(6)\n",
      "memory usage: 2.0+ MB\n"
     ]
    }
   ],
   "source": [
    "trash_pickup.info()"
   ]
  },
  {
   "cell_type": "code",
   "execution_count": 5,
   "id": "bbdae227-227a-470f-86fb-a27df96b5951",
   "metadata": {},
   "outputs": [
    {
     "data": {
      "text/plain": [
       "pandas.core.frame.DataFrame"
      ]
     },
     "execution_count": 5,
     "metadata": {},
     "output_type": "execute_result"
    }
   ],
   "source": [
    "type(trash_pickup)"
   ]
  },
  {
   "cell_type": "code",
   "execution_count": 6,
   "id": "32771d89-98bc-4571-9780-d6baba509313",
   "metadata": {},
   "outputs": [],
   "source": [
    "#Rename column names\n",
    "trash_pickup=trash_pickup.rename(columns={'Request Number':'request_number', 'Date Opened':'date_opened', 'Request':'request', 'Description':'description',\n",
    "                             'Incident Address':'incident_address', 'Zip Code':'zip_code', 'Trash Hauler':'trash_hauler', 'Trash Route':'trash_route',\n",
    "                             'Council District':'council_district', 'State Plan X':'state_plan_x', 'State Plan Y':'state_plan_y',\n",
    "                             'LONGITUDE':'longitude', 'LATITUDE':'latitude'})"
   ]
  },
  {
   "cell_type": "code",
   "execution_count": 7,
   "id": "20d4ec1d-824c-456b-8c4c-312f245cf315",
   "metadata": {},
   "outputs": [
    {
     "data": {
      "text/html": [
       "<div>\n",
       "<style scoped>\n",
       "    .dataframe tbody tr th:only-of-type {\n",
       "        vertical-align: middle;\n",
       "    }\n",
       "\n",
       "    .dataframe tbody tr th {\n",
       "        vertical-align: top;\n",
       "    }\n",
       "\n",
       "    .dataframe thead th {\n",
       "        text-align: right;\n",
       "    }\n",
       "</style>\n",
       "<table border=\"1\" class=\"dataframe\">\n",
       "  <thead>\n",
       "    <tr style=\"text-align: right;\">\n",
       "      <th></th>\n",
       "      <th>request_number</th>\n",
       "      <th>date_opened</th>\n",
       "      <th>request</th>\n",
       "      <th>description</th>\n",
       "      <th>incident_address</th>\n",
       "      <th>zip_code</th>\n",
       "      <th>trash_hauler</th>\n",
       "      <th>trash_route</th>\n",
       "      <th>council_district</th>\n",
       "      <th>state_plan_x</th>\n",
       "      <th>state_plan_y</th>\n",
       "      <th>longitude</th>\n",
       "      <th>latitude</th>\n",
       "    </tr>\n",
       "  </thead>\n",
       "  <tbody>\n",
       "    <tr>\n",
       "      <th>0</th>\n",
       "      <td>25270</td>\n",
       "      <td>11/1/2017</td>\n",
       "      <td>Trash - Backdoor</td>\n",
       "      <td>house with the wheel chair ramp, they share dr...</td>\n",
       "      <td>3817 Crouch Dr</td>\n",
       "      <td>37207.0</td>\n",
       "      <td>RED RIVER</td>\n",
       "      <td>3205</td>\n",
       "      <td>2.0</td>\n",
       "      <td>1727970.412</td>\n",
       "      <td>686779.4781</td>\n",
       "      <td>-86.815392</td>\n",
       "      <td>36.217292</td>\n",
       "    </tr>\n",
       "    <tr>\n",
       "      <th>1</th>\n",
       "      <td>25274</td>\n",
       "      <td>11/1/2017</td>\n",
       "      <td>Trash - Curbside/Alley Missed Pickup</td>\n",
       "      <td>Curb/Trash miss Tuesday.</td>\n",
       "      <td>4028 Clarksville Pike</td>\n",
       "      <td>37218.0</td>\n",
       "      <td>RED RIVER</td>\n",
       "      <td>4202</td>\n",
       "      <td>1.0</td>\n",
       "      <td>1721259.366</td>\n",
       "      <td>685444.7996</td>\n",
       "      <td>-86.838103</td>\n",
       "      <td>36.213470</td>\n",
       "    </tr>\n",
       "  </tbody>\n",
       "</table>\n",
       "</div>"
      ],
      "text/plain": [
       "   request_number date_opened                               request  \\\n",
       "0           25270   11/1/2017                      Trash - Backdoor   \n",
       "1           25274   11/1/2017  Trash - Curbside/Alley Missed Pickup   \n",
       "\n",
       "                                         description       incident_address  \\\n",
       "0  house with the wheel chair ramp, they share dr...         3817 Crouch Dr   \n",
       "1                           Curb/Trash miss Tuesday.  4028 Clarksville Pike   \n",
       "\n",
       "   zip_code trash_hauler trash_route  council_district  state_plan_x  \\\n",
       "0   37207.0    RED RIVER        3205               2.0   1727970.412   \n",
       "1   37218.0    RED RIVER        4202               1.0   1721259.366   \n",
       "\n",
       "   state_plan_y  longitude   latitude  \n",
       "0   686779.4781 -86.815392  36.217292  \n",
       "1   685444.7996 -86.838103  36.213470  "
      ]
     },
     "execution_count": 7,
     "metadata": {},
     "output_type": "execute_result"
    }
   ],
   "source": [
    "trash_pickup.head(2)"
   ]
  },
  {
   "cell_type": "code",
   "execution_count": 8,
   "id": "94bd14aa-4003-45b6-b848-2aa5d1533d7d",
   "metadata": {},
   "outputs": [
    {
     "data": {
      "text/plain": [
       "14121"
      ]
     },
     "execution_count": 8,
     "metadata": {},
     "output_type": "execute_result"
    }
   ],
   "source": [
    "#number of unique number of incident address\n",
    "trash_pickup['incident_address'].nunique()"
   ]
  },
  {
   "cell_type": "code",
   "execution_count": 9,
   "id": "a8a1115e-4d8d-4890-bfdd-cdd17a2bb86b",
   "metadata": {},
   "outputs": [
    {
     "data": {
      "text/plain": [
       "20226"
      ]
     },
     "execution_count": 9,
     "metadata": {},
     "output_type": "execute_result"
    }
   ],
   "source": [
    "#total count of request\n",
    "trash_pickup['request'].count()"
   ]
  },
  {
   "cell_type": "code",
   "execution_count": 10,
   "id": "c38beecd-8f18-41c4-a7d1-09e9391a745b",
   "metadata": {},
   "outputs": [
    {
     "data": {
      "text/plain": [
       "20226"
      ]
     },
     "execution_count": 10,
     "metadata": {},
     "output_type": "execute_result"
    }
   ],
   "source": [
    "#Total Count of request number\n",
    "trash_pickup['request_number'].count()"
   ]
  },
  {
   "cell_type": "code",
   "execution_count": 11,
   "id": "1c853a64-d5f0-4dec-9264-98921e6f7476",
   "metadata": {},
   "outputs": [],
   "source": [
    "trash_pickup['date_opened'] = pd.to_datetime(trash_pickup['date_opened'])"
   ]
  },
  {
   "cell_type": "code",
   "execution_count": 12,
   "id": "c53ba2a2-72a7-40b0-825d-bcb10cab1b86",
   "metadata": {},
   "outputs": [],
   "source": [
    "trash_pickup['date_opened'] = pd.to_datetime(trash_pickup['date_opened'], format='%m/%d/%Y')"
   ]
  },
  {
   "cell_type": "code",
   "execution_count": 13,
   "id": "bce0e3b8-71bb-4aa5-83e4-3c1e4bda9baa",
   "metadata": {},
   "outputs": [],
   "source": [
    "trash_pickup['year'] = trash_pickup['date_opened'].dt.year"
   ]
  },
  {
   "cell_type": "code",
   "execution_count": 14,
   "id": "9fae896d-e586-4d78-8dfb-e78bf4fc50d0",
   "metadata": {},
   "outputs": [],
   "source": [
    "trash_pickup['month'] = trash_pickup['date_opened'].dt.month"
   ]
  },
  {
   "cell_type": "code",
   "execution_count": 15,
   "id": "9141e3c8-7750-474f-a87e-b8aae08040b4",
   "metadata": {},
   "outputs": [],
   "source": [
    "trash_pickup['day'] = trash_pickup['date_opened'].dt.day"
   ]
  },
  {
   "cell_type": "markdown",
   "id": "ff27b2aa-7aad-4084-a976-cc8528e75b1c",
   "metadata": {},
   "source": [
    "__Determine the total amount of damages due to missed pickups. And how much does each trash hauler owe?__"
   ]
  },
  {
   "cell_type": "code",
   "execution_count": 104,
   "id": "d4c764a5-710f-49a6-a708-3b46dd8b7d60",
   "metadata": {},
   "outputs": [],
   "source": [
    "missed_pickups = trash_pickup[trash_pickup['description'] == 'miss']\n",
    "\n",
    "# Group by address and count missed pickups for each address\n",
    "missed_pickup_counts = missed_pickups.groupby('incident_address').size().reset_index(name='Missed_Pickup_Count')\n",
    "\n",
    "# Calculate the number of \"chronic\" missed pickups (more than 1)\n",
    "# For each address, subtract 1 from the total missed pickups to exclude the first one\n",
    "missed_pickup_counts['Chronic_Missed_Pickups'] = missed_pickup_counts['Missed_Pickup_Count'].apply(lambda x: max(0, x - 1))\n",
    "\n",
    "# Calculate the liquidated damages for each address\n",
    "missed_pickup_counts['Damages'] = missed_pickup_counts['Chronic_Missed_Pickups'] * 200\n",
    "\n",
    "# Calculate the total liquidated damages\n",
    "total_damages = missed_pickup_counts['Damages'].sum()"
   ]
  },
  {
   "cell_type": "code",
   "execution_count": 16,
   "id": "b2f1a0bc-b8f7-4f3f-a13b-b480a3922f81",
   "metadata": {},
   "outputs": [
    {
     "data": {
      "text/html": [
       "<div>\n",
       "<style scoped>\n",
       "    .dataframe tbody tr th:only-of-type {\n",
       "        vertical-align: middle;\n",
       "    }\n",
       "\n",
       "    .dataframe tbody tr th {\n",
       "        vertical-align: top;\n",
       "    }\n",
       "\n",
       "    .dataframe thead th {\n",
       "        text-align: right;\n",
       "    }\n",
       "</style>\n",
       "<table border=\"1\" class=\"dataframe\">\n",
       "  <thead>\n",
       "    <tr style=\"text-align: right;\">\n",
       "      <th></th>\n",
       "      <th>incident_address</th>\n",
       "      <th>Count</th>\n",
       "    </tr>\n",
       "  </thead>\n",
       "  <tbody>\n",
       "    <tr>\n",
       "      <th>3</th>\n",
       "      <td>100 Clydelan Ct, Nashville, TN 37205, United S...</td>\n",
       "      <td>2</td>\n",
       "    </tr>\n",
       "    <tr>\n",
       "      <th>8</th>\n",
       "      <td>100 Lincoln Ct, Nashville, TN 37205, United St...</td>\n",
       "      <td>2</td>\n",
       "    </tr>\n",
       "    <tr>\n",
       "      <th>9</th>\n",
       "      <td>100 Nashboro Greens, Nashville, TN 37217, Unit...</td>\n",
       "      <td>2</td>\n",
       "    </tr>\n",
       "    <tr>\n",
       "      <th>12</th>\n",
       "      <td>100 Rhine Dr, Nashville, TN 37115, United States</td>\n",
       "      <td>2</td>\n",
       "    </tr>\n",
       "    <tr>\n",
       "      <th>23</th>\n",
       "      <td>1000 Flintlock Ct, Nashville, TN 37217, United...</td>\n",
       "      <td>2</td>\n",
       "    </tr>\n",
       "    <tr>\n",
       "      <th>...</th>\n",
       "      <td>...</td>\n",
       "      <td>...</td>\n",
       "    </tr>\n",
       "    <tr>\n",
       "      <th>10090</th>\n",
       "      <td>971 Windrowe Dr, Nashville, TN 37205, United S...</td>\n",
       "      <td>2</td>\n",
       "    </tr>\n",
       "    <tr>\n",
       "      <th>10094</th>\n",
       "      <td>986 Malquin Dr, Nashville, TN 37216, United St...</td>\n",
       "      <td>2</td>\n",
       "    </tr>\n",
       "    <tr>\n",
       "      <th>10097</th>\n",
       "      <td>998 shadow ln</td>\n",
       "      <td>2</td>\n",
       "    </tr>\n",
       "    <tr>\n",
       "      <th>10101</th>\n",
       "      <td>E Campbell Rd, Nashville, TN 37115, United States</td>\n",
       "      <td>2</td>\n",
       "    </tr>\n",
       "    <tr>\n",
       "      <th>10114</th>\n",
       "      <td>Trevino Pl, Nashville, TN 37013, United States</td>\n",
       "      <td>2</td>\n",
       "    </tr>\n",
       "  </tbody>\n",
       "</table>\n",
       "<p>2327 rows × 2 columns</p>\n",
       "</div>"
      ],
      "text/plain": [
       "                                        incident_address  Count\n",
       "3      100 Clydelan Ct, Nashville, TN 37205, United S...      2\n",
       "8      100 Lincoln Ct, Nashville, TN 37205, United St...      2\n",
       "9      100 Nashboro Greens, Nashville, TN 37217, Unit...      2\n",
       "12      100 Rhine Dr, Nashville, TN 37115, United States      2\n",
       "23     1000 Flintlock Ct, Nashville, TN 37217, United...      2\n",
       "...                                                  ...    ...\n",
       "10090  971 Windrowe Dr, Nashville, TN 37205, United S...      2\n",
       "10094  986 Malquin Dr, Nashville, TN 37216, United St...      2\n",
       "10097                                      998 shadow ln      2\n",
       "10101  E Campbell Rd, Nashville, TN 37115, United States      2\n",
       "10114     Trevino Pl, Nashville, TN 37013, United States      2\n",
       "\n",
       "[2327 rows x 2 columns]"
      ]
     },
     "execution_count": 16,
     "metadata": {},
     "output_type": "execute_result"
    }
   ],
   "source": [
    "#RED RIVER\n",
    "red_river = trash_pickup[trash_pickup['trash_hauler'] == 'RED RIVER']\n",
    "address_counts = red_river.groupby('incident_address').size().reset_index(name='Count')\n",
    "result = address_counts[address_counts['Count'] > 1]\n",
    "result"
   ]
  },
  {
   "cell_type": "code",
   "execution_count": 17,
   "id": "4a21c497-42ec-47b3-a55f-b44d5c6eac85",
   "metadata": {},
   "outputs": [
    {
     "data": {
      "text/html": [
       "<div>\n",
       "<style scoped>\n",
       "    .dataframe tbody tr th:only-of-type {\n",
       "        vertical-align: middle;\n",
       "    }\n",
       "\n",
       "    .dataframe tbody tr th {\n",
       "        vertical-align: top;\n",
       "    }\n",
       "\n",
       "    .dataframe thead th {\n",
       "        text-align: right;\n",
       "    }\n",
       "</style>\n",
       "<table border=\"1\" class=\"dataframe\">\n",
       "  <thead>\n",
       "    <tr style=\"text-align: right;\">\n",
       "      <th></th>\n",
       "      <th>incident_address</th>\n",
       "      <th>Count</th>\n",
       "    </tr>\n",
       "  </thead>\n",
       "  <tbody>\n",
       "    <tr>\n",
       "      <th>2</th>\n",
       "      <td>100 Marshall Ct, Nashville, TN 37212, United S...</td>\n",
       "      <td>2</td>\n",
       "    </tr>\n",
       "    <tr>\n",
       "      <th>17</th>\n",
       "      <td>1005 9th Ave S, Nashville, TN 37203, United St...</td>\n",
       "      <td>2</td>\n",
       "    </tr>\n",
       "    <tr>\n",
       "      <th>20</th>\n",
       "      <td>1005 N 6th St</td>\n",
       "      <td>2</td>\n",
       "    </tr>\n",
       "    <tr>\n",
       "      <th>24</th>\n",
       "      <td>1006 Pennock Ave, Nashville, TN 37207, United ...</td>\n",
       "      <td>2</td>\n",
       "    </tr>\n",
       "    <tr>\n",
       "      <th>27</th>\n",
       "      <td>1007 South St</td>\n",
       "      <td>2</td>\n",
       "    </tr>\n",
       "    <tr>\n",
       "      <th>...</th>\n",
       "      <td>...</td>\n",
       "      <td>...</td>\n",
       "    </tr>\n",
       "    <tr>\n",
       "      <th>2519</th>\n",
       "      <td>932 Carolyn Ave</td>\n",
       "      <td>3</td>\n",
       "    </tr>\n",
       "    <tr>\n",
       "      <th>2524</th>\n",
       "      <td>936 Cahal Ave</td>\n",
       "      <td>6</td>\n",
       "    </tr>\n",
       "    <tr>\n",
       "      <th>2525</th>\n",
       "      <td>936 Cahal Ave, Nashville, TN 37206, United States</td>\n",
       "      <td>3</td>\n",
       "    </tr>\n",
       "    <tr>\n",
       "      <th>2527</th>\n",
       "      <td>936 Strouse Ave, Nashville, TN 37206, United S...</td>\n",
       "      <td>2</td>\n",
       "    </tr>\n",
       "    <tr>\n",
       "      <th>2538</th>\n",
       "      <td>965 9th Ave S, Nashville, TN 37203, United States</td>\n",
       "      <td>2</td>\n",
       "    </tr>\n",
       "  </tbody>\n",
       "</table>\n",
       "<p>549 rows × 2 columns</p>\n",
       "</div>"
      ],
      "text/plain": [
       "                                       incident_address  Count\n",
       "2     100 Marshall Ct, Nashville, TN 37212, United S...      2\n",
       "17    1005 9th Ave S, Nashville, TN 37203, United St...      2\n",
       "20                                        1005 N 6th St      2\n",
       "24    1006 Pennock Ave, Nashville, TN 37207, United ...      2\n",
       "27                                        1007 South St      2\n",
       "...                                                 ...    ...\n",
       "2519                                    932 Carolyn Ave      3\n",
       "2524                                      936 Cahal Ave      6\n",
       "2525  936 Cahal Ave, Nashville, TN 37206, United States      3\n",
       "2527  936 Strouse Ave, Nashville, TN 37206, United S...      2\n",
       "2538  965 9th Ave S, Nashville, TN 37203, United States      2\n",
       "\n",
       "[549 rows x 2 columns]"
      ]
     },
     "execution_count": 17,
     "metadata": {},
     "output_type": "execute_result"
    }
   ],
   "source": [
    "#METRO\n",
    "METRO = trash_pickup[trash_pickup['trash_hauler'] == 'METRO']\n",
    "address_counts = METRO.groupby('incident_address').size().reset_index(name='Count')\n",
    "result = address_counts[address_counts['Count'] > 1]\n",
    "result"
   ]
  },
  {
   "cell_type": "code",
   "execution_count": 89,
   "id": "c9fd92df-e821-468c-8df2-c45c06487d97",
   "metadata": {},
   "outputs": [
    {
     "data": {
      "text/html": [
       "<div>\n",
       "<style scoped>\n",
       "    .dataframe tbody tr th:only-of-type {\n",
       "        vertical-align: middle;\n",
       "    }\n",
       "\n",
       "    .dataframe tbody tr th {\n",
       "        vertical-align: top;\n",
       "    }\n",
       "\n",
       "    .dataframe thead th {\n",
       "        text-align: right;\n",
       "    }\n",
       "</style>\n",
       "<table border=\"1\" class=\"dataframe\">\n",
       "  <thead>\n",
       "    <tr style=\"text-align: right;\">\n",
       "      <th></th>\n",
       "      <th>incident_address</th>\n",
       "      <th>Count</th>\n",
       "    </tr>\n",
       "  </thead>\n",
       "  <tbody>\n",
       "    <tr>\n",
       "      <th>4</th>\n",
       "      <td>110 George L Davis Blvd, Nashville, TN 37203, ...</td>\n",
       "      <td>6</td>\n",
       "    </tr>\n",
       "    <tr>\n",
       "      <th>15</th>\n",
       "      <td>167 ROSA L PARKS BLVD, 37203</td>\n",
       "      <td>3</td>\n",
       "    </tr>\n",
       "    <tr>\n",
       "      <th>19</th>\n",
       "      <td>200 2nd Ave S</td>\n",
       "      <td>3</td>\n",
       "    </tr>\n",
       "    <tr>\n",
       "      <th>24</th>\n",
       "      <td>217 2nd Ave S</td>\n",
       "      <td>5</td>\n",
       "    </tr>\n",
       "    <tr>\n",
       "      <th>41</th>\n",
       "      <td>400 E Nocturne Dr</td>\n",
       "      <td>2</td>\n",
       "    </tr>\n",
       "    <tr>\n",
       "      <th>46</th>\n",
       "      <td>600 4th Ave N</td>\n",
       "      <td>2</td>\n",
       "    </tr>\n",
       "    <tr>\n",
       "      <th>48</th>\n",
       "      <td>808 BROADWAY, 37203</td>\n",
       "      <td>2</td>\n",
       "    </tr>\n",
       "  </tbody>\n",
       "</table>\n",
       "</div>"
      ],
      "text/plain": [
       "                                     incident_address  Count\n",
       "4   110 George L Davis Blvd, Nashville, TN 37203, ...      6\n",
       "15                       167 ROSA L PARKS BLVD, 37203      3\n",
       "19                                      200 2nd Ave S      3\n",
       "24                                      217 2nd Ave S      5\n",
       "41                                  400 E Nocturne Dr      2\n",
       "46                                      600 4th Ave N      2\n",
       "48                                808 BROADWAY, 37203      2"
      ]
     },
     "execution_count": 89,
     "metadata": {},
     "output_type": "execute_result"
    }
   ],
   "source": [
    "#Maetro\n",
    "Metro = trash_pickup[trash_pickup['trash_hauler'] == 'Metro']\n",
    "address_counts = Metro.groupby('incident_address').size().reset_index(name='Count')\n",
    "result = address_counts[address_counts['Count'] > 1]\n",
    "result"
   ]
  },
  {
   "cell_type": "code",
   "execution_count": 19,
   "id": "5a75384f-b640-4b3e-99ba-35141782102b",
   "metadata": {},
   "outputs": [
    {
     "data": {
      "text/html": [
       "<div>\n",
       "<style scoped>\n",
       "    .dataframe tbody tr th:only-of-type {\n",
       "        vertical-align: middle;\n",
       "    }\n",
       "\n",
       "    .dataframe tbody tr th {\n",
       "        vertical-align: top;\n",
       "    }\n",
       "\n",
       "    .dataframe thead th {\n",
       "        text-align: right;\n",
       "    }\n",
       "</style>\n",
       "<table border=\"1\" class=\"dataframe\">\n",
       "  <thead>\n",
       "    <tr style=\"text-align: right;\">\n",
       "      <th></th>\n",
       "      <th>incident_address</th>\n",
       "      <th>Count</th>\n",
       "    </tr>\n",
       "  </thead>\n",
       "  <tbody>\n",
       "    <tr>\n",
       "      <th>3</th>\n",
       "      <td>1002 40th Ave N, Nashville, TN 37209, United S...</td>\n",
       "      <td>4</td>\n",
       "    </tr>\n",
       "    <tr>\n",
       "      <th>22</th>\n",
       "      <td>1011 ELM HILL PIKE, 37210</td>\n",
       "      <td>2</td>\n",
       "    </tr>\n",
       "    <tr>\n",
       "      <th>24</th>\n",
       "      <td>1011 elm hill pike</td>\n",
       "      <td>7</td>\n",
       "    </tr>\n",
       "    <tr>\n",
       "      <th>41</th>\n",
       "      <td>1017 9th Ave N, Nashville, TN 37208, United St...</td>\n",
       "      <td>2</td>\n",
       "    </tr>\n",
       "    <tr>\n",
       "      <th>45</th>\n",
       "      <td>1021 Foster Ave, Nashville, TN 37210, United S...</td>\n",
       "      <td>2</td>\n",
       "    </tr>\n",
       "    <tr>\n",
       "      <th>...</th>\n",
       "      <td>...</td>\n",
       "      <td>...</td>\n",
       "    </tr>\n",
       "    <tr>\n",
       "      <th>960</th>\n",
       "      <td>926 32nd Ave N B</td>\n",
       "      <td>3</td>\n",
       "    </tr>\n",
       "    <tr>\n",
       "      <th>974</th>\n",
       "      <td>934 31st Ave N, Nashville, TN 37209, United St...</td>\n",
       "      <td>3</td>\n",
       "    </tr>\n",
       "    <tr>\n",
       "      <th>976</th>\n",
       "      <td>936 32nd Ave N, Nashville, TN 37209, United St...</td>\n",
       "      <td>2</td>\n",
       "    </tr>\n",
       "    <tr>\n",
       "      <th>983</th>\n",
       "      <td>940 34th ave n</td>\n",
       "      <td>2</td>\n",
       "    </tr>\n",
       "    <tr>\n",
       "      <th>990</th>\n",
       "      <td>944 4th Ave S</td>\n",
       "      <td>2</td>\n",
       "    </tr>\n",
       "  </tbody>\n",
       "</table>\n",
       "<p>221 rows × 2 columns</p>\n",
       "</div>"
      ],
      "text/plain": [
       "                                      incident_address  Count\n",
       "3    1002 40th Ave N, Nashville, TN 37209, United S...      4\n",
       "22                           1011 ELM HILL PIKE, 37210      2\n",
       "24                                  1011 elm hill pike      7\n",
       "41   1017 9th Ave N, Nashville, TN 37208, United St...      2\n",
       "45   1021 Foster Ave, Nashville, TN 37210, United S...      2\n",
       "..                                                 ...    ...\n",
       "960                                   926 32nd Ave N B      3\n",
       "974  934 31st Ave N, Nashville, TN 37209, United St...      3\n",
       "976  936 32nd Ave N, Nashville, TN 37209, United St...      2\n",
       "983                                     940 34th ave n      2\n",
       "990                                      944 4th Ave S      2\n",
       "\n",
       "[221 rows x 2 columns]"
      ]
     },
     "execution_count": 19,
     "metadata": {},
     "output_type": "execute_result"
    }
   ],
   "source": [
    "#WASTE IND\n",
    "waset_ind = trash_pickup[trash_pickup['trash_hauler'] == 'WASTE IND']\n",
    "address_counts = waset_ind.groupby('incident_address').size().reset_index(name='Count')\n",
    "result = address_counts[address_counts['Count'] > 1]\n",
    "result"
   ]
  },
  {
   "cell_type": "markdown",
   "id": "71759b02-e0d5-45d3-82d7-e6ca0aa9f060",
   "metadata": {},
   "source": [
    "__What other types of complaints are there?__"
   ]
  },
  {
   "cell_type": "code",
   "execution_count": 20,
   "id": "6539d821-0d91-47d5-846c-0e1eb1b66353",
   "metadata": {},
   "outputs": [
    {
     "data": {
      "text/plain": [
       "request\n",
       "Damage to Property                        257\n",
       "Trash - Backdoor                         2629\n",
       "Trash - Curbside/Alley Missed Pickup    15028\n",
       "Trash Collection Complaint               2312\n",
       "dtype: int64"
      ]
     },
     "execution_count": 20,
     "metadata": {},
     "output_type": "execute_result"
    }
   ],
   "source": [
    "#Types of complaints\n",
    "trash_pickup.groupby('request').size()"
   ]
  },
  {
   "cell_type": "markdown",
   "id": "f6757bdc-4309-45bb-af71-23ae6e4e5cfe",
   "metadata": {},
   "source": [
    "__How do metro crews compare to the contractor's performance?__"
   ]
  },
  {
   "cell_type": "code",
   "execution_count": 29,
   "id": "9fcd796a-e088-43b6-8902-dc85f327a375",
   "metadata": {},
   "outputs": [
    {
     "data": {
      "text/plain": [
       "trash_hauler\n",
       "METRO         3512\n",
       "Metro           68\n",
       "RED RIVER    14395\n",
       "WASTE IND     1350\n",
       "Name: request, dtype: int64"
      ]
     },
     "execution_count": 29,
     "metadata": {},
     "output_type": "execute_result"
    }
   ],
   "source": [
    "#Number of request per trash_hauler\n",
    "trash_pickup.groupby('trash_hauler')['request'].count()"
   ]
  },
  {
   "cell_type": "code",
   "execution_count": 31,
   "id": "922f3018-c260-46ce-91e2-c75c2e8ccd9b",
   "metadata": {},
   "outputs": [
    {
     "data": {
      "text/plain": [
       "Text(0.5, 1.0, 'Trash Hauler Count')"
      ]
     },
     "execution_count": 31,
     "metadata": {},
     "output_type": "execute_result"
    },
    {
     "data": {
      "image/png": "[encoded data removed]",
      "text/plain": [
       "<Figure size 640x480 with 1 Axes>"
      ]
     },
     "metadata": {},
     "output_type": "display_data"
    }
   ],
   "source": [
    "#Trash hauler count\n",
    "trash_hauler_counts=trash_pickup['trash_hauler'].value_counts()\n",
    "plt.bar(trash_hauler_counts.index, request_counts.values)\n",
    "plt.xlabel('Trash Hauler')\n",
    "plt.ylabel('Request Count')\n",
    "plt.title('Trash Hauler Count')"
   ]
  },
  {
   "cell_type": "markdown",
   "id": "9e3961a5-714f-4222-9729-70c224740ade",
   "metadata": {},
   "source": [
    "__What were the total missed pickup by route?__"
   ]
  },
  {
   "cell_type": "code",
   "execution_count": 39,
   "id": "27f77619-18d6-4a1c-87be-07fa184db49d",
   "metadata": {},
   "outputs": [
    {
     "data": {
      "text/plain": [
       "trash_route\n",
       "1201     179\n",
       "1202     104\n",
       "1202S      4\n",
       "1203      81\n",
       "1204      77\n",
       "        ... \n",
       "9504      59\n",
       "9505      70\n",
       "9506      77\n",
       "9507      92\n",
       "9508     140\n",
       "Name: request, Length: 173, dtype: int64"
      ]
     },
     "execution_count": 39,
     "metadata": {},
     "output_type": "execute_result"
    }
   ],
   "source": [
    "trash_pickup.groupby('trash_route')['request'].count()"
   ]
  },
  {
   "cell_type": "markdown",
   "id": "1141c598-b0aa-4d42-9a76-dcd699949764",
   "metadata": {},
   "source": [
    "__Are there any geospatial analysis you can do?  Which visualizations can you create?__"
   ]
  },
  {
   "cell_type": "code",
   "execution_count": 44,
   "id": "270659f8-1eb5-4a9f-a8a6-e8cde5c50c51",
   "metadata": {},
   "outputs": [],
   "source": [
    "#geometry = \n",
    "geometry=gpd.points_from_xy(trash_pickup['longitude'], trash_pickup['latitude'])"
   ]
  },
  {
   "cell_type": "code",
   "execution_count": 47,
   "id": "05bbe9cb-6928-45ae-adc5-775c28111c17",
   "metadata": {},
   "outputs": [],
   "source": [
    "trash_pickup_gdf=gpd.GeoDataFrame(trash_pickup, geometry=geometry, crs=\"EPSG:4326\")"
   ]
  },
  {
   "cell_type": "code",
   "execution_count": 73,
   "id": "16a13116-febd-4137-902d-c1a88fe084e0",
   "metadata": {},
   "outputs": [
    {
     "data": {
      "text/html": [
       "<div>\n",
       "<style scoped>\n",
       "    .dataframe tbody tr th:only-of-type {\n",
       "        vertical-align: middle;\n",
       "    }\n",
       "\n",
       "    .dataframe tbody tr th {\n",
       "        vertical-align: top;\n",
       "    }\n",
       "\n",
       "    .dataframe thead th {\n",
       "        text-align: right;\n",
       "    }\n",
       "</style>\n",
       "<table border=\"1\" class=\"dataframe\">\n",
       "  <thead>\n",
       "    <tr style=\"text-align: right;\">\n",
       "      <th></th>\n",
       "      <th>request_number</th>\n",
       "      <th>date_opened</th>\n",
       "      <th>request</th>\n",
       "      <th>description</th>\n",
       "      <th>incident_address</th>\n",
       "      <th>zip_code</th>\n",
       "      <th>trash_hauler</th>\n",
       "      <th>trash_route</th>\n",
       "      <th>council_district</th>\n",
       "      <th>state_plan_x</th>\n",
       "      <th>state_plan_y</th>\n",
       "      <th>longitude</th>\n",
       "      <th>latitude</th>\n",
       "      <th>year</th>\n",
       "      <th>month</th>\n",
       "      <th>day</th>\n",
       "      <th>geometry</th>\n",
       "    </tr>\n",
       "  </thead>\n",
       "  <tbody>\n",
       "    <tr>\n",
       "      <th>0</th>\n",
       "      <td>25270</td>\n",
       "      <td>2017-11-01</td>\n",
       "      <td>Trash - Backdoor</td>\n",
       "      <td>house with the wheel chair ramp, they share dr...</td>\n",
       "      <td>3817 Crouch Dr</td>\n",
       "      <td>37207.0</td>\n",
       "      <td>RED RIVER</td>\n",
       "      <td>3205</td>\n",
       "      <td>2.0</td>\n",
       "      <td>1727970.412</td>\n",
       "      <td>686779.4781</td>\n",
       "      <td>-86.815392</td>\n",
       "      <td>36.217292</td>\n",
       "      <td>2017</td>\n",
       "      <td>11</td>\n",
       "      <td>1</td>\n",
       "      <td>POINT (-86.81539 36.21729)</td>\n",
       "    </tr>\n",
       "    <tr>\n",
       "      <th>1</th>\n",
       "      <td>25274</td>\n",
       "      <td>2017-11-01</td>\n",
       "      <td>Trash - Curbside/Alley Missed Pickup</td>\n",
       "      <td>Curb/Trash miss Tuesday.</td>\n",
       "      <td>4028 Clarksville Pike</td>\n",
       "      <td>37218.0</td>\n",
       "      <td>RED RIVER</td>\n",
       "      <td>4202</td>\n",
       "      <td>1.0</td>\n",
       "      <td>1721259.366</td>\n",
       "      <td>685444.7996</td>\n",
       "      <td>-86.838103</td>\n",
       "      <td>36.213470</td>\n",
       "      <td>2017</td>\n",
       "      <td>11</td>\n",
       "      <td>1</td>\n",
       "      <td>POINT (-86.83810 36.21347)</td>\n",
       "    </tr>\n",
       "    <tr>\n",
       "      <th>2</th>\n",
       "      <td>25276</td>\n",
       "      <td>2017-11-01</td>\n",
       "      <td>Trash - Curbside/Alley Missed Pickup</td>\n",
       "      <td>Curb/trash miss Tuesday.</td>\n",
       "      <td>6528 Thunderbird Dr</td>\n",
       "      <td>37209.0</td>\n",
       "      <td>RED RIVER</td>\n",
       "      <td>4205</td>\n",
       "      <td>20.0</td>\n",
       "      <td>1707026.753</td>\n",
       "      <td>659887.4716</td>\n",
       "      <td>-86.885562</td>\n",
       "      <td>36.142923</td>\n",
       "      <td>2017</td>\n",
       "      <td>11</td>\n",
       "      <td>1</td>\n",
       "      <td>POINT (-86.88556 36.14292)</td>\n",
       "    </tr>\n",
       "    <tr>\n",
       "      <th>3</th>\n",
       "      <td>25307</td>\n",
       "      <td>2017-11-01</td>\n",
       "      <td>Trash - Curbside/Alley Missed Pickup</td>\n",
       "      <td>missed</td>\n",
       "      <td>2603 old matthews rd</td>\n",
       "      <td>37207.0</td>\n",
       "      <td>WASTE IND</td>\n",
       "      <td>2206</td>\n",
       "      <td>2.0</td>\n",
       "      <td>1735691.771</td>\n",
       "      <td>685027.2459</td>\n",
       "      <td>-86.789170</td>\n",
       "      <td>36.212652</td>\n",
       "      <td>2017</td>\n",
       "      <td>11</td>\n",
       "      <td>1</td>\n",
       "      <td>POINT (-86.78917 36.21265)</td>\n",
       "    </tr>\n",
       "    <tr>\n",
       "      <th>4</th>\n",
       "      <td>25312</td>\n",
       "      <td>2017-11-01</td>\n",
       "      <td>Trash - Curbside/Alley Missed Pickup</td>\n",
       "      <td>Missed the even side of the road.</td>\n",
       "      <td>604 croley dr</td>\n",
       "      <td>37209.0</td>\n",
       "      <td>RED RIVER</td>\n",
       "      <td>4203</td>\n",
       "      <td>20.0</td>\n",
       "      <td>1710185.772</td>\n",
       "      <td>664205.1011</td>\n",
       "      <td>-86.874995</td>\n",
       "      <td>36.154861</td>\n",
       "      <td>2017</td>\n",
       "      <td>11</td>\n",
       "      <td>1</td>\n",
       "      <td>POINT (-86.87499 36.15486)</td>\n",
       "    </tr>\n",
       "  </tbody>\n",
       "</table>\n",
       "</div>"
      ],
      "text/plain": [
       "   request_number date_opened                               request  \\\n",
       "0           25270  2017-11-01                      Trash - Backdoor   \n",
       "1           25274  2017-11-01  Trash - Curbside/Alley Missed Pickup   \n",
       "2           25276  2017-11-01  Trash - Curbside/Alley Missed Pickup   \n",
       "3           25307  2017-11-01  Trash - Curbside/Alley Missed Pickup   \n",
       "4           25312  2017-11-01  Trash - Curbside/Alley Missed Pickup   \n",
       "\n",
       "                                         description       incident_address  \\\n",
       "0  house with the wheel chair ramp, they share dr...         3817 Crouch Dr   \n",
       "1                           Curb/Trash miss Tuesday.  4028 Clarksville Pike   \n",
       "2                           Curb/trash miss Tuesday.    6528 Thunderbird Dr   \n",
       "3                                             missed   2603 old matthews rd   \n",
       "4                  Missed the even side of the road.          604 croley dr   \n",
       "\n",
       "   zip_code trash_hauler trash_route  council_district  state_plan_x  \\\n",
       "0   37207.0    RED RIVER        3205               2.0   1727970.412   \n",
       "1   37218.0    RED RIVER        4202               1.0   1721259.366   \n",
       "2   37209.0    RED RIVER        4205              20.0   1707026.753   \n",
       "3   37207.0    WASTE IND        2206               2.0   1735691.771   \n",
       "4   37209.0    RED RIVER        4203              20.0   1710185.772   \n",
       "\n",
       "   state_plan_y  longitude   latitude  year  month  day  \\\n",
       "0   686779.4781 -86.815392  36.217292  2017     11    1   \n",
       "1   685444.7996 -86.838103  36.213470  2017     11    1   \n",
       "2   659887.4716 -86.885562  36.142923  2017     11    1   \n",
       "3   685027.2459 -86.789170  36.212652  2017     11    1   \n",
       "4   664205.1011 -86.874995  36.154861  2017     11    1   \n",
       "\n",
       "                     geometry  \n",
       "0  POINT (-86.81539 36.21729)  \n",
       "1  POINT (-86.83810 36.21347)  \n",
       "2  POINT (-86.88556 36.14292)  \n",
       "3  POINT (-86.78917 36.21265)  \n",
       "4  POINT (-86.87499 36.15486)  "
      ]
     },
     "execution_count": 73,
     "metadata": {},
     "output_type": "execute_result"
    }
   ],
   "source": [
    "trash_pickup_gdf.head()"
   ]
  },
  {
   "cell_type": "code",
   "execution_count": 56,
   "id": "ad30406f-e516-4f64-ac7f-00f88b4cbabe",
   "metadata": {},
   "outputs": [],
   "source": [
    "#trash route count by zip code\n",
    "trash_route_byzip = trash_pickup.groupby('zip_code')['trash_route'].count()"
   ]
  },
  {
   "cell_type": "code",
   "execution_count": 59,
   "id": "99425378-8bb6-4b8e-a9f5-22fa143965d0",
   "metadata": {},
   "outputs": [
    {
     "data": {
      "text/plain": [
       "geopandas.geodataframe.GeoDataFrame"
      ]
     },
     "execution_count": 59,
     "metadata": {},
     "output_type": "execute_result"
    }
   ],
   "source": [
    "type(trash_pickup_gdf)"
   ]
  },
  {
   "cell_type": "code",
   "execution_count": 60,
   "id": "2149b8d5-ad49-46aa-b17d-1704f552fdf1",
   "metadata": {},
   "outputs": [
    {
     "data": {
      "image/svg+xml": [
       "<svg xmlns=\"http://www.w3.org/2000/svg\" xmlns:xlink=\"http://www.w3.org/1999/xlink\" width=\"100.0\" height=\"100.0\" viewBox=\"-87.81539226 35.21729166 2.0 2.0\" preserveAspectRatio=\"xMinYMin meet\"><g transform=\"matrix(1,0,0,-1,0,72.43458332)\"><circle cx=\"-86.81539226\" cy=\"36.21729166\" r=\"0.06\" stroke=\"#555555\" stroke-width=\"0.02\" fill=\"#66cc99\" opacity=\"0.6\" /></g></svg>"
      ],
      "text/plain": [
       "<POINT (-86.815 36.217)>"
      ]
     },
     "execution_count": 60,
     "metadata": {},
     "output_type": "execute_result"
    }
   ],
   "source": [
    "trash_pickup_gdf.loc[0, 'geometry']"
   ]
  },
  {
   "cell_type": "code",
   "execution_count": 61,
   "id": "842fb80e-4b81-4d91-8501-1b8e60415c44",
   "metadata": {},
   "outputs": [
    {
     "name": "stdout",
     "output_type": "stream",
     "text": [
      "POINT (-86.81539226 36.21729166)\n"
     ]
    }
   ],
   "source": [
    "print(trash_pickup_gdf.loc[0, 'geometry'])"
   ]
  },
  {
   "cell_type": "code",
   "execution_count": 62,
   "id": "c659e336-62cb-4a32-a05f-0fbbbe411e8d",
   "metadata": {},
   "outputs": [
    {
     "data": {
      "image/png": "[encoded data removed]",
      "text/plain": [
       "<Figure size 640x480 with 1 Axes>"
      ]
     },
     "metadata": {},
     "output_type": "display_data"
    }
   ],
   "source": [
    "trash_pickup_gdf.plot();"
   ]
  },
  {
   "cell_type": "code",
   "execution_count": null,
   "id": "0ff04ae3-9129-443a-bc70-2a3bac44bc3b",
   "metadata": {},
   "outputs": [],
   "source": []
  }
 ],
 "metadata": {
  "kernelspec": {
   "display_name": "Python [conda env:geospatial]",
   "language": "python",
   "name": "conda-env-geospatial-py"
  },
  "language_info": {
   "codemirror_mode": {
    "name": "ipython",
    "version": 3
   },
   "file_extension": ".py",
   "mimetype": "text/x-python",
   "name": "python",
   "nbconvert_exporter": "python",
   "pygments_lexer": "ipython3",
   "version": "3.10.18"
  }
 },
 "nbformat": 4,
 "nbformat_minor": 5
}
